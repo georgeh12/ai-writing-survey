{
 "cells": [
  {
   "cell_type": "code",
   "execution_count": 1,
   "id": "5c330776",
   "metadata": {},
   "outputs": [],
   "source": [
    "import numpy as np\n",
    "import pandas as pd"
   ]
  },
  {
   "cell_type": "code",
   "execution_count": 2,
   "id": "a80ac226",
   "metadata": {},
   "outputs": [],
   "source": [
    "import matplotlib.pyplot as plt\n",
    "import seaborn as sns"
   ]
  },
  {
   "cell_type": "code",
   "execution_count": 3,
   "id": "92fd793d",
   "metadata": {},
   "outputs": [],
   "source": [
    "df = pd.read_csv('filtered_df.csv')"
   ]
  },
  {
   "cell_type": "code",
   "execution_count": 4,
   "id": "e8ded05f",
   "metadata": {},
   "outputs": [
    {
     "data": {
      "text/plain": [
       "194"
      ]
     },
     "execution_count": 4,
     "metadata": {},
     "output_type": "execute_result"
    }
   ],
   "source": [
    "df['Q10'].isnull().sum()"
   ]
  },
  {
   "cell_type": "code",
   "execution_count": 5,
   "id": "ed4bc497",
   "metadata": {},
   "outputs": [
    {
     "data": {
      "text/plain": [
       "(354,)"
      ]
     },
     "execution_count": 5,
     "metadata": {},
     "output_type": "execute_result"
    }
   ],
   "source": [
    "df['Q10'].shape"
   ]
  },
  {
   "cell_type": "code",
   "execution_count": 6,
   "id": "6a1ed811",
   "metadata": {},
   "outputs": [
    {
     "data": {
      "text/plain": [
       "(354,)"
      ]
     },
     "execution_count": 6,
     "metadata": {},
     "output_type": "execute_result"
    }
   ],
   "source": [
    "df['Q17'].shape"
   ]
  },
  {
   "cell_type": "code",
   "execution_count": 7,
   "id": "72a616ff",
   "metadata": {},
   "outputs": [],
   "source": [
    "new_df1 = df.dropna(subset=['Q10'])"
   ]
  },
  {
   "cell_type": "code",
   "execution_count": 8,
   "id": "585d9524",
   "metadata": {},
   "outputs": [],
   "source": [
    "new_df2 = df.dropna(subset=['Q12'])"
   ]
  },
  {
   "cell_type": "code",
   "execution_count": 9,
   "id": "8947a1e3",
   "metadata": {},
   "outputs": [],
   "source": [
    "new_df3 = df.dropna(subset=['Q14'])"
   ]
  },
  {
   "cell_type": "code",
   "execution_count": 10,
   "id": "ab15566b",
   "metadata": {},
   "outputs": [],
   "source": [
    "new_df4 = df.dropna(subset=['Q17'])"
   ]
  },
  {
   "cell_type": "code",
   "execution_count": 11,
   "id": "08ccb722",
   "metadata": {},
   "outputs": [
    {
     "data": {
      "text/plain": [
       "Index(['StartDate', 'EndDate', 'Status', 'IPAddress', 'Progress',\n",
       "       'Duration (in seconds)', 'Finished', 'RecordedDate', 'ResponseId',\n",
       "       'RecipientLastName', 'RecipientFirstName', 'RecipientEmail',\n",
       "       'ExternalReference', 'LocationLatitude', 'LocationLongitude',\n",
       "       'DistributionChannel', 'UserLanguage', 'Q1', 'Q2_1', 'Q2_2', 'Q2_3',\n",
       "       'Q2_4', 'Q3_1', 'Q3_2', 'Q3_3', 'Q3_4', 'Q4_1', 'Q5_1', 'Q6', 'Q7',\n",
       "       'Q10', 'Q12', 'Q14', 'Q17', 'Q18_1', 'Q18_2', 'Q18_3', 'Q18_4', 'Q18_5',\n",
       "       'Q18_6', 'Q19', 'Q20', 'Q21', 'condition_experiment'],\n",
       "      dtype='object')"
      ]
     },
     "execution_count": 11,
     "metadata": {},
     "output_type": "execute_result"
    }
   ],
   "source": [
    "df.columns"
   ]
  },
  {
   "cell_type": "code",
   "execution_count": 12,
   "id": "8cc0e7a8",
   "metadata": {},
   "outputs": [],
   "source": [
    "import re"
   ]
  },
  {
   "cell_type": "markdown",
   "id": "b1f6cda6",
   "metadata": {},
   "source": [
    "### Calculate the Jecard between product first and final writing in condition 1 & 2"
   ]
  },
  {
   "cell_type": "code",
   "execution_count": 15,
   "id": "d16ca026",
   "metadata": {},
   "outputs": [
    {
     "name": "stdout",
     "output_type": "stream",
     "text": [
      "     JaccardIndex_0\n",
      "0          0.929825\n",
      "1          0.250000\n",
      "2          0.225000\n",
      "3          0.212121\n",
      "4          0.294118\n",
      "..              ...\n",
      "153        0.163265\n",
      "154        0.093023\n",
      "155        0.146789\n",
      "156        0.131313\n",
      "157        0.031250\n",
      "\n",
      "[158 rows x 1 columns]\n"
     ]
    }
   ],
   "source": [
    "def tokenize(text):\n",
    "    # Simple tokenization based on whitespace and lowercase conversion\n",
    "    # Consider more sophisticated tokenization/natural language processing (NLP) if necessary\n",
    "    return set(text.lower().split())\n",
    "\n",
    "# Function to calculate Jaccard index between two texts\n",
    "def calculate_jaccard_index(text1, text2):\n",
    "    set1 = tokenize(text1)\n",
    "    set2 = tokenize(text2)\n",
    "    intersection = set1.intersection(set2)\n",
    "    union = set1.union(set2)\n",
    "    # Protect against division by zero if both sets are empty\n",
    "    return len(intersection) / len(union) if len(union) > 0 else 0\n",
    "\n",
    "# Assuming both DataFrames are aligned and have the same number of rows\n",
    "# Apply the calculate_jaccard_index function row-wise\n",
    "jaccard_indices = [calculate_jaccard_index(row1, row2) for row1, row2 in zip(new_df1['Q10'], new_df2['Q12'])]\n",
    "result_df_0 = pd.DataFrame({'JaccardIndex_0': jaccard_indices})\n",
    "\n",
    "print(result_df_0)"
   ]
  },
  {
   "cell_type": "code",
   "execution_count": 18,
   "id": "2dd5564a",
   "metadata": {},
   "outputs": [
    {
     "name": "stdout",
     "output_type": "stream",
     "text": [
      "     JaccardIndex_1\n",
      "0          0.050000\n",
      "1          0.388060\n",
      "2          0.296703\n",
      "3          0.816901\n",
      "4          0.562500\n",
      "..              ...\n",
      "152        0.246032\n",
      "153        0.000000\n",
      "154        0.180556\n",
      "155        0.129310\n",
      "156        0.118056\n",
      "\n",
      "[157 rows x 1 columns]\n"
     ]
    }
   ],
   "source": [
    "jaccard_indices= [calculate_jaccard_index(row1, row2) for row1, row2 in zip(new_df3['Q14'], new_df4['Q17'])]\n",
    "result_df_1 = pd.DataFrame({'JaccardIndex_1': jaccard_indices})\n",
    "\n",
    "print(result_df_1)"
   ]
  },
  {
   "cell_type": "code",
   "execution_count": 21,
   "id": "f1e7fffa",
   "metadata": {},
   "outputs": [
    {
     "data": {
      "text/plain": [
       "pandas.core.frame.DataFrame"
      ]
     },
     "execution_count": 21,
     "metadata": {},
     "output_type": "execute_result"
    }
   ],
   "source": [
    "type(result_df_0)"
   ]
  },
  {
   "cell_type": "code",
   "execution_count": 25,
   "id": "71d3e17c",
   "metadata": {},
   "outputs": [],
   "source": [
    "merged_df = pd.concat([result_df_0, result_df_1], ignore_index=True)"
   ]
  },
  {
   "cell_type": "code",
   "execution_count": 27,
   "id": "6de0e5b9",
   "metadata": {},
   "outputs": [],
   "source": [
    "merged_df = pd.concat([result_df_0, result_df_1], axis=1)"
   ]
  },
  {
   "cell_type": "code",
   "execution_count": 28,
   "id": "3c86ff3c",
   "metadata": {},
   "outputs": [
    {
     "data": {
      "text/html": [
       "<div>\n",
       "<style scoped>\n",
       "    .dataframe tbody tr th:only-of-type {\n",
       "        vertical-align: middle;\n",
       "    }\n",
       "\n",
       "    .dataframe tbody tr th {\n",
       "        vertical-align: top;\n",
       "    }\n",
       "\n",
       "    .dataframe thead th {\n",
       "        text-align: right;\n",
       "    }\n",
       "</style>\n",
       "<table border=\"1\" class=\"dataframe\">\n",
       "  <thead>\n",
       "    <tr style=\"text-align: right;\">\n",
       "      <th></th>\n",
       "      <th>JaccardIndex_0</th>\n",
       "      <th>JaccardIndex_1</th>\n",
       "    </tr>\n",
       "  </thead>\n",
       "  <tbody>\n",
       "    <tr>\n",
       "      <th>0</th>\n",
       "      <td>0.929825</td>\n",
       "      <td>0.050000</td>\n",
       "    </tr>\n",
       "    <tr>\n",
       "      <th>1</th>\n",
       "      <td>0.250000</td>\n",
       "      <td>0.388060</td>\n",
       "    </tr>\n",
       "    <tr>\n",
       "      <th>2</th>\n",
       "      <td>0.225000</td>\n",
       "      <td>0.296703</td>\n",
       "    </tr>\n",
       "    <tr>\n",
       "      <th>3</th>\n",
       "      <td>0.212121</td>\n",
       "      <td>0.816901</td>\n",
       "    </tr>\n",
       "    <tr>\n",
       "      <th>4</th>\n",
       "      <td>0.294118</td>\n",
       "      <td>0.562500</td>\n",
       "    </tr>\n",
       "    <tr>\n",
       "      <th>...</th>\n",
       "      <td>...</td>\n",
       "      <td>...</td>\n",
       "    </tr>\n",
       "    <tr>\n",
       "      <th>153</th>\n",
       "      <td>0.163265</td>\n",
       "      <td>0.000000</td>\n",
       "    </tr>\n",
       "    <tr>\n",
       "      <th>154</th>\n",
       "      <td>0.093023</td>\n",
       "      <td>0.180556</td>\n",
       "    </tr>\n",
       "    <tr>\n",
       "      <th>155</th>\n",
       "      <td>0.146789</td>\n",
       "      <td>0.129310</td>\n",
       "    </tr>\n",
       "    <tr>\n",
       "      <th>156</th>\n",
       "      <td>0.131313</td>\n",
       "      <td>0.118056</td>\n",
       "    </tr>\n",
       "    <tr>\n",
       "      <th>157</th>\n",
       "      <td>0.031250</td>\n",
       "      <td>NaN</td>\n",
       "    </tr>\n",
       "  </tbody>\n",
       "</table>\n",
       "<p>158 rows × 2 columns</p>\n",
       "</div>"
      ],
      "text/plain": [
       "     JaccardIndex_0  JaccardIndex_1\n",
       "0          0.929825        0.050000\n",
       "1          0.250000        0.388060\n",
       "2          0.225000        0.296703\n",
       "3          0.212121        0.816901\n",
       "4          0.294118        0.562500\n",
       "..              ...             ...\n",
       "153        0.163265        0.000000\n",
       "154        0.093023        0.180556\n",
       "155        0.146789        0.129310\n",
       "156        0.131313        0.118056\n",
       "157        0.031250             NaN\n",
       "\n",
       "[158 rows x 2 columns]"
      ]
     },
     "execution_count": 28,
     "metadata": {},
     "output_type": "execute_result"
    }
   ],
   "source": [
    "merged_df "
   ]
  },
  {
   "cell_type": "code",
   "execution_count": 29,
   "id": "41f8e71e",
   "metadata": {},
   "outputs": [
    {
     "name": "stdout",
     "output_type": "stream",
     "text": [
      "T-Statistic: -1.0179883807315997\n",
      "P-Value: 0.3094696894473844\n"
     ]
    }
   ],
   "source": [
    "from scipy import stats\n",
    "\n",
    "# Assuming you have merged_df already defined\n",
    "\n",
    "# Extract the columns for the t-test\n",
    "column_0 = merged_df['JaccardIndex_0']\n",
    "column_1 = merged_df['JaccardIndex_1']\n",
    "\n",
    "# Perform the t-test\n",
    "t_statistic, p_value = stats.ttest_ind(column_0, column_1, nan_policy='omit')\n",
    "\n",
    "# Display the results\n",
    "print(\"T-Statistic:\", t_statistic)\n",
    "print(\"P-Value:\", p_value)\n"
   ]
  },
  {
   "cell_type": "markdown",
   "id": "b39677cb",
   "metadata": {},
   "source": [
    "### There is not significant difference between Jeccard index of (fist and final writing) in two conditions"
   ]
  },
  {
   "cell_type": "code",
   "execution_count": null,
   "id": "dc7c5475",
   "metadata": {},
   "outputs": [],
   "source": []
  }
 ],
 "metadata": {
  "kernelspec": {
   "display_name": "Python 3 (ipykernel)",
   "language": "python",
   "name": "python3"
  },
  "language_info": {
   "codemirror_mode": {
    "name": "ipython",
    "version": 3
   },
   "file_extension": ".py",
   "mimetype": "text/x-python",
   "name": "python",
   "nbconvert_exporter": "python",
   "pygments_lexer": "ipython3",
   "version": "3.11.5"
  }
 },
 "nbformat": 4,
 "nbformat_minor": 5
}
